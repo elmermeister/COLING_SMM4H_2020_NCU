{
 "cells": [
  {
   "cell_type": "code",
   "execution_count": 1,
   "metadata": {},
   "outputs": [],
   "source": [
    "import pandas as pd\n",
    "import numpy as np\n",
    "import matplotlib.pyplot as plt\n",
    "from sklearn.feature_extraction.text import TfidfVectorizer\n",
    "from sklearn.feature_selection import chi2\n",
    "from sklearn.model_selection import train_test_split , GridSearchCV\n",
    "from sklearn.feature_extraction.text import CountVectorizer\n",
    "from sklearn.feature_extraction.text import TfidfTransformer\n",
    "from sklearn.naive_bayes import MultinomialNB\n",
    "from io import StringIO\n",
    "\n",
    "from sklearn.linear_model import LogisticRegression\n",
    "from sklearn.ensemble import RandomForestClassifier\n",
    "from sklearn.tree import DecisionTreeClassifier\n",
    "from sklearn.neighbors import KNeighborsClassifier\n",
    "from sklearn.naive_bayes import MultinomialNB\n",
    "from sklearn.svm import LinearSVC,SVC\n",
    "\n",
    "from sklearn.metrics import classification_report"
   ]
  },
  {
   "cell_type": "markdown",
   "metadata": {},
   "source": [
    "# Train data"
   ]
  },
  {
   "cell_type": "code",
   "execution_count": 2,
   "metadata": {},
   "outputs": [],
   "source": [
    "df_all = pd.read_excel('S_data/task1_training.xlsx')#all data include zero\n",
    "df_all = df_all[pd.notnull(df_all['class'])]\n",
    "\n",
    "col = ['tweet', 'class']\n",
    "df_all = df_all[col]\n",
    "df_all.columns = ['tweet', 'label']\n",
    "df_all['clssification'] = df_all['label'].factorize()[0]\n",
    "# category_id_df_all = df_all[['label', 'clssification']].drop_duplicates().sort_values('clssification')\n",
    "# category_to_id_old = dict(category_id_df_all.values)\n",
    "# id_to_category_old = dict(category_id_df_all[['clssification', 'label']].values)"
   ]
  },
  {
   "cell_type": "code",
   "execution_count": 3,
   "metadata": {},
   "outputs": [
    {
     "name": "stdout",
     "output_type": "stream",
     "text": [
      "feature: 220\n",
      "shape: (55419, 220)\n",
      "extract_word: ['1st', 'acetaminophen', 'adderall', 'af', 'amp drink', 'amp im', 'antibiotics', 'arm', 'asleep', 'baby', 'bad', 'bc', 'bed', 'best', 'best friend', 'better', 'birth', 'birth control', 'botox', 'bottle', 'bottle tums', 'bring', 'button', 'canadiankelli', 'castor', 'castor oil', 'cause', 'chloemugg', 'contractions', 'control', 'daily', 'day', 'diabetics', 'diclectin', 'did', 'didnt', 'die', 'doctor', 'does', 'dont', 'drink', 'eat', 'effects', 'end', 'entonox', 'epidural', 'extra', 'fact', 'faster', 'fat', 'feel', 'feel like', 'feel sick', 'feeling', 'finally', 'fine', 'flu', 'friend', 'fucking', 'gain', 'gaviscon', 'getting', 'getting nexplanon', 'giving', 'gmo', 'gmo insulin', 'god', 'goes', 'going', 'gonna', 'good', 'got', 'great', 'hair', 'happy', 'hard', 'hate', 'havent', 'having', 'head', 'headache', 'help', 'helps', 'hey', 'high', 'home', 'hope', 'hour', 'hours', 'http', 'https', 'hurt', 'husband', 'ibuprofen', 'ill', 'im getting', 'im just', 'imma', 'infection', 'insulin', 'ive', 'just want', 'kicking', 'know', 'little', 'lol', 'longer', 'look', 'love', 'lungs', 'make', 'make feel', 'makes', 'makes feel', 'massive', 'medicine', 'meds', 'meds make', 'morphine', 'muscle', 'muscle relaxer', 'muscle relaxers', 'nasal', 'nasal spray', 'need', 'need tums', 'needs', 'new', 'nexplanon', 'night', 'noct_harley', 'nurse', 'nyquil', 'oh', 'oil', 'orange', 'otc', 'pain', 'pain meds', 'painkillers', 'people', 'person', 'pill', 'pills', 'pregnancy', 'pregnant', 'prenatal', 'prenatal vitamins', 'prenatals', 'properly', 'real', 'really', 'relaxer', 'relaxers', 'reminds', 'ridiculous', 'room', 'room amp', 'run', 'said', 'set', 'shit', 'shot', 'shouldnt', 'sick', 'sleep', 'sleeping', 'sleepy', 'son', 'soon', 'sore', 'sounds', 'spray', 'start', 'steroid', 'steroids', 'stop', 'sucked', 'sudafed', 'sure', 'swear', 'switching', 'taking', 'thank', 'thank god', 'thanks', 'thing', 'think', 'think im', 'throat', 'time', 'times', 'today', 'told', 'tonight', 'took', 'tried', 'try', 'trying', 'tums', 'twice', 'tylenol', 'tylenol amp', 'tylenol3', 'type', 'vitamins', 'wakes', 'wanna', 'want', 'water', 'wine', 'wonderful', 'wont', 'work', 'working', 'world', 'worst', 'wouldnt', 'yall', 'zantac']\n"
     ]
    }
   ],
   "source": [
    "df = pd.read_excel('S_data/task1_training.xlsx')#only label one\n",
    "df = df[pd.notnull(df['class'])]\n",
    "df = df.iloc[0:147]\n",
    "col = ['tweet', 'class']\n",
    "df = df[col]\n",
    "df.columns = ['tweet', 'label']\n",
    "df['clssification'] = df['label'].factorize()[0]\n",
    "category_id_df = df[['label', 'clssification']].drop_duplicates().sort_values('clssification')\n",
    "category_to_id = dict(category_id_df.values)\n",
    "id_to_category = dict(category_id_df[['clssification', 'label']].values)\n",
    "\n",
    "tfidf = TfidfVectorizer(sublinear_tf=True, min_df=2,max_df=12, norm='l2', encoding='utf-8', ngram_range=(1, 2), stop_words='english',max_features = None)\n",
    "tfidf.fit(df.tweet.apply(lambda x: np.str_(x)))  #You need to convert the dtype object to unicode string as is clearly mentioned in the traceback.\n",
    "train_features = tfidf.transform(df_all.tweet.apply(lambda x: np.str_(x)))  #You need to convert the dtype object to unicode string as is clearly mentioned in the traceback.\n",
    "train_labels = df_all.label\n",
    "train_words = tfidf.get_feature_names()\n",
    "\n",
    "print(\"feature:\",len(train_words))\n",
    "print(\"shape:\",train_features.shape)\n",
    "print('extract_word:', train_words) \n"
   ]
  },
  {
   "cell_type": "code",
   "execution_count": 4,
   "metadata": {},
   "outputs": [
    {
     "name": "stdout",
     "output_type": "stream",
     "text": [
      "  (0, 213)\t0.296469385505981\n",
      "  (0, 181)\t0.35847361730036553\n",
      "  (0, 179)\t0.35847361730036553\n",
      "  (0, 167)\t0.33742139146889977\n",
      "  (0, 127)\t0.3077499456609464\n",
      "  (0, 117)\t0.35847361730036553\n",
      "  (0, 116)\t0.5019663041917913\n",
      "  (0, 110)\t0.2570262740215273\n",
      "  (1, 205)\t0.6205079508681219\n",
      "  (1, 197)\t0.4352374970791665\n",
      "  (1, 82)\t0.4352374970791665\n",
      "  (1, 59)\t0.48590793899870516\n",
      "  (2, 218)\t0.34656666970591693\n",
      "  (2, 215)\t0.34656666970591693\n",
      "  (2, 178)\t0.3681894831397251\n",
      "  (2, 160)\t0.3681894831397251\n",
      "  (2, 157)\t0.3681894831397251\n",
      "  (2, 156)\t0.3681894831397251\n",
      "  (2, 129)\t0.32979471260096643\n",
      "  (2, 19)\t0.32979471260096643\n",
      "  (3, 163)\t0.47093319062770883\n",
      "  (3, 96)\t0.44327650572216354\n",
      "  (3, 81)\t0.44327650572216354\n",
      "  (3, 48)\t0.47093319062770883\n",
      "  (3, 9)\t0.40429659766056575\n",
      "  :\t:\n",
      "  (55403, 208)\t0.5241801395188688\n",
      "  (55403, 140)\t0.5870645155582334\n",
      "  (55403, 103)\t0.6169201211715793\n",
      "  (55405, 151)\t0.8058546859867848\n",
      "  (55405, 105)\t0.5921133549187524\n",
      "  (55406, 105)\t0.650233326166616\n",
      "  (55406, 9)\t0.7597345730860873\n",
      "  (55407, 78)\t1.0\n",
      "  (55409, 190)\t0.39333451584447476\n",
      "  (55409, 106)\t0.47559732504323704\n",
      "  (55409, 74)\t0.47559732504323704\n",
      "  (55409, 54)\t0.47559732504323704\n",
      "  (55409, 9)\t0.4083007615478385\n",
      "  (55410, 212)\t0.7281650592767172\n",
      "  (55410, 103)\t0.6854018138643455\n",
      "  (55411, 107)\t0.7706038032290586\n",
      "  (55411, 89)\t0.6373145051298534\n",
      "  (55412, 90)\t1.0\n",
      "  (55413, 90)\t1.0\n",
      "  (55414, 140)\t1.0\n",
      "  (55415, 151)\t0.8189771281201756\n",
      "  (55415, 39)\t0.5738261614949508\n",
      "  (55416, 90)\t1.0\n",
      "  (55417, 183)\t1.0\n",
      "  (55418, 39)\t1.0\n"
     ]
    }
   ],
   "source": [
    "print(train_features)"
   ]
  },
  {
   "cell_type": "code",
   "execution_count": 5,
   "metadata": {},
   "outputs": [
    {
     "name": "stdout",
     "output_type": "stream",
     "text": [
      "\n"
     ]
    }
   ],
   "source": [
    "print(train_features[55404])"
   ]
  },
  {
   "cell_type": "code",
   "execution_count": 6,
   "metadata": {},
   "outputs": [
    {
     "data": {
      "text/plain": [
       "(55419, 220)"
      ]
     },
     "execution_count": 6,
     "metadata": {},
     "output_type": "execute_result"
    }
   ],
   "source": [
    "train_features.todense().shape"
   ]
  },
  {
   "cell_type": "code",
   "execution_count": 7,
   "metadata": {},
   "outputs": [
    {
     "data": {
      "text/plain": [
       "<55419x220 sparse matrix of type '<class 'numpy.float64'>'\n",
       "\twith 83017 stored elements in Compressed Sparse Row format>"
      ]
     },
     "execution_count": 7,
     "metadata": {},
     "output_type": "execute_result"
    }
   ],
   "source": [
    "train_features"
   ]
  },
  {
   "cell_type": "code",
   "execution_count": 8,
   "metadata": {},
   "outputs": [],
   "source": [
    "train_features2 = train_features.todense()"
   ]
  },
  {
   "cell_type": "code",
   "execution_count": 9,
   "metadata": {},
   "outputs": [
    {
     "data": {
      "text/plain": [
       "matrix([[0.        , 0.        , 0.        , ..., 0.        , 0.        ,\n",
       "         0.        ],\n",
       "        [0.        , 0.        , 0.        , ..., 0.        , 0.        ,\n",
       "         0.        ],\n",
       "        [0.        , 0.        , 0.        , ..., 0.        , 0.34656667,\n",
       "         0.        ],\n",
       "        ...,\n",
       "        [0.        , 0.        , 0.        , ..., 0.        , 0.        ,\n",
       "         0.        ],\n",
       "        [0.        , 0.        , 0.        , ..., 0.        , 0.        ,\n",
       "         0.        ],\n",
       "        [0.        , 0.        , 0.        , ..., 0.        , 0.        ,\n",
       "         0.        ]])"
      ]
     },
     "execution_count": 9,
     "metadata": {},
     "output_type": "execute_result"
    }
   ],
   "source": [
    "train_features2"
   ]
  },
  {
   "cell_type": "code",
   "execution_count": 10,
   "metadata": {},
   "outputs": [
    {
     "name": "stdout",
     "output_type": "stream",
     "text": [
      "               word    frequency\n",
      "90            https  6720.179215\n",
      "89             http  3370.281826\n",
      "105             lol  1733.392096\n",
      "108            love  1693.558286\n",
      "9              baby  1588.484481\n",
      "..              ...          ...\n",
      "178         sudafed     0.801421\n",
      "202     tylenol amp     0.786428\n",
      "120  muscle relaxer     0.784141\n",
      "219          zantac     0.738827\n",
      "117       meds make     0.658187\n",
      "\n",
      "[220 rows x 2 columns]\n",
      "              word   frequency\n",
      "0              1st   53.839087\n",
      "1    acetaminophen    1.049980\n",
      "2         adderall    1.033837\n",
      "3               af  113.910377\n",
      "4        amp drink    1.274338\n",
      "..             ...         ...\n",
      "215          world  178.580914\n",
      "216          worst  105.684346\n",
      "217        wouldnt   97.090931\n",
      "218           yall  283.688650\n",
      "219         zantac    0.738827\n",
      "\n",
      "[220 rows x 2 columns]\n"
     ]
    }
   ],
   "source": [
    "# sum tfidf frequency of each term through documents\n",
    "sums = train_features2.sum(axis=0)\n",
    "\n",
    "# connecting term to its sums frequency\n",
    "data = []\n",
    "for col, term in enumerate(train_words):\n",
    "    data.append( (term, sums[0,col] ))\n",
    "\n",
    "ranking = pd.DataFrame(data, columns=['word','frequency'])\n",
    "print(ranking.sort_values('frequency', ascending=False))\n",
    "print(ranking)"
   ]
  },
  {
   "cell_type": "markdown",
   "metadata": {},
   "source": [
    "# val data"
   ]
  },
  {
   "cell_type": "code",
   "execution_count": 11,
   "metadata": {},
   "outputs": [
    {
     "name": "stdout",
     "output_type": "stream",
     "text": [
      "feature: 220\n",
      "shape: (13853, 220)\n",
      "extract_word: ['1st', 'acetaminophen', 'adderall', 'af', 'amp drink', 'amp im', 'antibiotics', 'arm', 'asleep', 'baby', 'bad', 'bc', 'bed', 'best', 'best friend', 'better', 'birth', 'birth control', 'botox', 'bottle', 'bottle tums', 'bring', 'button', 'canadiankelli', 'castor', 'castor oil', 'cause', 'chloemugg', 'contractions', 'control', 'daily', 'day', 'diabetics', 'diclectin', 'did', 'didnt', 'die', 'doctor', 'does', 'dont', 'drink', 'eat', 'effects', 'end', 'entonox', 'epidural', 'extra', 'fact', 'faster', 'fat', 'feel', 'feel like', 'feel sick', 'feeling', 'finally', 'fine', 'flu', 'friend', 'fucking', 'gain', 'gaviscon', 'getting', 'getting nexplanon', 'giving', 'gmo', 'gmo insulin', 'god', 'goes', 'going', 'gonna', 'good', 'got', 'great', 'hair', 'happy', 'hard', 'hate', 'havent', 'having', 'head', 'headache', 'help', 'helps', 'hey', 'high', 'home', 'hope', 'hour', 'hours', 'http', 'https', 'hurt', 'husband', 'ibuprofen', 'ill', 'im getting', 'im just', 'imma', 'infection', 'insulin', 'ive', 'just want', 'kicking', 'know', 'little', 'lol', 'longer', 'look', 'love', 'lungs', 'make', 'make feel', 'makes', 'makes feel', 'massive', 'medicine', 'meds', 'meds make', 'morphine', 'muscle', 'muscle relaxer', 'muscle relaxers', 'nasal', 'nasal spray', 'need', 'need tums', 'needs', 'new', 'nexplanon', 'night', 'noct_harley', 'nurse', 'nyquil', 'oh', 'oil', 'orange', 'otc', 'pain', 'pain meds', 'painkillers', 'people', 'person', 'pill', 'pills', 'pregnancy', 'pregnant', 'prenatal', 'prenatal vitamins', 'prenatals', 'properly', 'real', 'really', 'relaxer', 'relaxers', 'reminds', 'ridiculous', 'room', 'room amp', 'run', 'said', 'set', 'shit', 'shot', 'shouldnt', 'sick', 'sleep', 'sleeping', 'sleepy', 'son', 'soon', 'sore', 'sounds', 'spray', 'start', 'steroid', 'steroids', 'stop', 'sucked', 'sudafed', 'sure', 'swear', 'switching', 'taking', 'thank', 'thank god', 'thanks', 'thing', 'think', 'think im', 'throat', 'time', 'times', 'today', 'told', 'tonight', 'took', 'tried', 'try', 'trying', 'tums', 'twice', 'tylenol', 'tylenol amp', 'tylenol3', 'type', 'vitamins', 'wakes', 'wanna', 'want', 'water', 'wine', 'wonderful', 'wont', 'work', 'working', 'world', 'worst', 'wouldnt', 'yall', 'zantac']\n"
     ]
    }
   ],
   "source": [
    "df_val = pd.read_excel('S_data/task1_validation.xlsx')\n",
    "\n",
    "df_val = df_val[pd.notnull(df_val['class'])]\n",
    "col = ['tweet', 'class']\n",
    "df_val = df_val[col]\n",
    "df_val.columns = ['tweet', 'label']\n",
    "df_val['clssification'] = df_val['label'].factorize()[0]\n",
    "category_id_df_val = df_val[['label', 'clssification']].drop_duplicates().sort_values('clssification')\n",
    "category_to_id_val = dict(category_id_df_val.values)\n",
    "id_to_category_val = dict(category_id_df_val[['clssification', 'label']].values)\n",
    "\n",
    "val_features = tfidf.transform(df_val.tweet.apply(lambda x: np.str_(x)))  #You need to convert the dtype object to unicode string as is clearly mentioned in the traceback.\n",
    "val_labels = df_val.label\n",
    "val_words = tfidf.get_feature_names()\n",
    "\n",
    "print(\"feature:\",len(val_words))\n",
    "print(\"shape:\",val_features.shape)\n",
    "print('extract_word:', val_words) "
   ]
  },
  {
   "cell_type": "code",
   "execution_count": 12,
   "metadata": {},
   "outputs": [],
   "source": [
    "Seed = 7\n",
    "\n",
    "# svc = SVC(C=10.0,gamma=0.05,tol=0.01,kernel='rbf',degree=3, coef0=0.0,shrinking=True,probability=False,class_weight =\"balanced\",verbose=False,cache_size=200,max_iter=-1, decision_function_shape='ovr', random_state=Seed)\n",
    "svc = SVC(C=1000.0,gamma=0.005,tol=0.001,kernel='rbf',random_state=7)\n",
    "# LR = LogisticRegression(penalty=\"l2\", dual=False, tol=0.0005, C=1000, fit_intercept=True, intercept_scaling=1, class_weight=\"balanced\", random_state=Seed, max_iter=100,  verbose=0, warm_start=False, n_jobs=None)\n",
    "LR = LogisticRegression(penalty=\"l2\", dual=False, tol=0.0005, C=1000,random_state=7)\n",
    "knn = KNeighborsClassifier(n_neighbors=5, weights='uniform', algorithm='auto',leaf_size=30, p=2, metric='minkowski', metric_params=None)\n",
    "DT= DecisionTreeClassifier(criterion='gini',max_depth=None,min_samples_split=0.1,max_features=None,random_state=7)\n",
    "\n",
    "tuned_parameters_svm = [{ \n",
    "'gamma': [0.001,0.01,0.1],\n",
    "'C': [10,100],\n",
    "'tol':[0.001,0.01]     \n",
    "}]\n",
    "\n",
    "tuned_parameters_knn = [{\n",
    "'n_neighbors':[1,5,10,15,20,50],\n",
    "'algorithm':['auto']\n",
    "}] \n",
    "\n",
    "tuned_parameters_LR = [{        \n",
    "'multi_class':['ovr'],\n",
    "'solver':['newton-cg','sag','lbfgs'],\n",
    "'C': [1,10,100],\n",
    "'tol':[0.001,0.01] \n",
    "}] \n",
    "\n",
    "tuned_parameters_DT = [{                \n",
    "}]"
   ]
  },
  {
   "cell_type": "code",
   "execution_count": 19,
   "metadata": {},
   "outputs": [],
   "source": [
    "list_classifier=[svc,knn,LR,DT]\n",
    "list_classifier_name=['model_svm','model_knn','model_LR','model_DT']\n",
    "list_tune=[tuned_parameters_svm,tuned_parameters_knn,tuned_parameters_LR,tuned_parameters_DT]"
   ]
  },
  {
   "cell_type": "code",
   "execution_count": 20,
   "metadata": {
    "collapsed": true,
    "jupyter": {
     "outputs_hidden": true
    }
   },
   "outputs": [
    {
     "name": "stdout",
     "output_type": "stream",
     "text": [
      "0\n",
      "Fitting 5 folds for each of 12 candidates, totalling 60 fits\n",
      "[CV] C=10, gamma=0.001, tol=0.001 ....................................\n"
     ]
    },
    {
     "name": "stderr",
     "output_type": "stream",
     "text": [
      "[Parallel(n_jobs=1)]: Using backend SequentialBackend with 1 concurrent workers.\n"
     ]
    },
    {
     "name": "stdout",
     "output_type": "stream",
     "text": [
      "[CV] ..................... C=10, gamma=0.001, tol=0.001, total=   0.6s\n",
      "[CV] C=10, gamma=0.001, tol=0.001 ....................................\n"
     ]
    },
    {
     "name": "stderr",
     "output_type": "stream",
     "text": [
      "[Parallel(n_jobs=1)]: Done   1 out of   1 | elapsed:    0.5s remaining:    0.0s\n"
     ]
    },
    {
     "name": "stdout",
     "output_type": "stream",
     "text": [
      "[CV] ..................... C=10, gamma=0.001, tol=0.001, total=   0.6s\n",
      "[CV] C=10, gamma=0.001, tol=0.001 ....................................\n",
      "[CV] ..................... C=10, gamma=0.001, tol=0.001, total=   0.6s\n",
      "[CV] C=10, gamma=0.001, tol=0.001 ....................................\n",
      "[CV] ..................... C=10, gamma=0.001, tol=0.001, total=   0.6s\n",
      "[CV] C=10, gamma=0.001, tol=0.001 ....................................\n",
      "[CV] ..................... C=10, gamma=0.001, tol=0.001, total=   0.6s\n",
      "[CV] C=10, gamma=0.001, tol=0.01 .....................................\n",
      "[CV] ...................... C=10, gamma=0.001, tol=0.01, total=   0.4s\n",
      "[CV] C=10, gamma=0.001, tol=0.01 .....................................\n",
      "[CV] ...................... C=10, gamma=0.001, tol=0.01, total=   0.4s\n",
      "[CV] C=10, gamma=0.001, tol=0.01 .....................................\n",
      "[CV] ...................... C=10, gamma=0.001, tol=0.01, total=   0.4s\n",
      "[CV] C=10, gamma=0.001, tol=0.01 .....................................\n",
      "[CV] ...................... C=10, gamma=0.001, tol=0.01, total=   0.4s\n",
      "[CV] C=10, gamma=0.001, tol=0.01 .....................................\n",
      "[CV] ...................... C=10, gamma=0.001, tol=0.01, total=   0.4s\n",
      "[CV] C=10, gamma=0.01, tol=0.001 .....................................\n",
      "[CV] ...................... C=10, gamma=0.01, tol=0.001, total=   2.0s\n",
      "[CV] C=10, gamma=0.01, tol=0.001 .....................................\n",
      "[CV] ...................... C=10, gamma=0.01, tol=0.001, total=   2.0s\n",
      "[CV] C=10, gamma=0.01, tol=0.001 .....................................\n",
      "[CV] ...................... C=10, gamma=0.01, tol=0.001, total=   1.8s\n",
      "[CV] C=10, gamma=0.01, tol=0.001 .....................................\n",
      "[CV] ...................... C=10, gamma=0.01, tol=0.001, total=   2.2s\n",
      "[CV] C=10, gamma=0.01, tol=0.001 .....................................\n",
      "[CV] ...................... C=10, gamma=0.01, tol=0.001, total=   2.0s\n",
      "[CV] C=10, gamma=0.01, tol=0.01 ......................................\n",
      "[CV] ....................... C=10, gamma=0.01, tol=0.01, total=   0.6s\n",
      "[CV] C=10, gamma=0.01, tol=0.01 ......................................\n",
      "[CV] ....................... C=10, gamma=0.01, tol=0.01, total=   0.6s\n",
      "[CV] C=10, gamma=0.01, tol=0.01 ......................................\n",
      "[CV] ....................... C=10, gamma=0.01, tol=0.01, total=   0.6s\n",
      "[CV] C=10, gamma=0.01, tol=0.01 ......................................\n",
      "[CV] ....................... C=10, gamma=0.01, tol=0.01, total=   0.6s\n",
      "[CV] C=10, gamma=0.01, tol=0.01 ......................................\n",
      "[CV] ....................... C=10, gamma=0.01, tol=0.01, total=   0.6s\n",
      "[CV] C=10, gamma=0.1, tol=0.001 ......................................\n",
      "[CV] ....................... C=10, gamma=0.1, tol=0.001, total=   1.7s\n",
      "[CV] C=10, gamma=0.1, tol=0.001 ......................................\n",
      "[CV] ....................... C=10, gamma=0.1, tol=0.001, total=   1.7s\n",
      "[CV] C=10, gamma=0.1, tol=0.001 ......................................\n",
      "[CV] ....................... C=10, gamma=0.1, tol=0.001, total=   1.8s\n",
      "[CV] C=10, gamma=0.1, tol=0.001 ......................................\n",
      "[CV] ....................... C=10, gamma=0.1, tol=0.001, total=   1.8s\n",
      "[CV] C=10, gamma=0.1, tol=0.001 ......................................\n",
      "[CV] ....................... C=10, gamma=0.1, tol=0.001, total=   1.6s\n",
      "[CV] C=10, gamma=0.1, tol=0.01 .......................................\n",
      "[CV] ........................ C=10, gamma=0.1, tol=0.01, total=   1.5s\n",
      "[CV] C=10, gamma=0.1, tol=0.01 .......................................\n",
      "[CV] ........................ C=10, gamma=0.1, tol=0.01, total=   1.5s\n",
      "[CV] C=10, gamma=0.1, tol=0.01 .......................................\n",
      "[CV] ........................ C=10, gamma=0.1, tol=0.01, total=   1.6s\n",
      "[CV] C=10, gamma=0.1, tol=0.01 .......................................\n",
      "[CV] ........................ C=10, gamma=0.1, tol=0.01, total=   1.6s\n",
      "[CV] C=10, gamma=0.1, tol=0.01 .......................................\n",
      "[CV] ........................ C=10, gamma=0.1, tol=0.01, total=   1.5s\n",
      "[CV] C=100, gamma=0.001, tol=0.001 ...................................\n",
      "[CV] .................... C=100, gamma=0.001, tol=0.001, total=   0.9s\n",
      "[CV] C=100, gamma=0.001, tol=0.001 ...................................\n",
      "[CV] .................... C=100, gamma=0.001, tol=0.001, total=   0.9s\n",
      "[CV] C=100, gamma=0.001, tol=0.001 ...................................\n",
      "[CV] .................... C=100, gamma=0.001, tol=0.001, total=   0.9s\n",
      "[CV] C=100, gamma=0.001, tol=0.001 ...................................\n",
      "[CV] .................... C=100, gamma=0.001, tol=0.001, total=   1.0s\n",
      "[CV] C=100, gamma=0.001, tol=0.001 ...................................\n",
      "[CV] .................... C=100, gamma=0.001, tol=0.001, total=   0.9s\n",
      "[CV] C=100, gamma=0.001, tol=0.01 ....................................\n",
      "[CV] ..................... C=100, gamma=0.001, tol=0.01, total=   0.5s\n",
      "[CV] C=100, gamma=0.001, tol=0.01 ....................................\n",
      "[CV] ..................... C=100, gamma=0.001, tol=0.01, total=   0.6s\n",
      "[CV] C=100, gamma=0.001, tol=0.01 ....................................\n",
      "[CV] ..................... C=100, gamma=0.001, tol=0.01, total=   0.6s\n",
      "[CV] C=100, gamma=0.001, tol=0.01 ....................................\n",
      "[CV] ..................... C=100, gamma=0.001, tol=0.01, total=   0.6s\n",
      "[CV] C=100, gamma=0.001, tol=0.01 ....................................\n",
      "[CV] ..................... C=100, gamma=0.001, tol=0.01, total=   0.6s\n",
      "[CV] C=100, gamma=0.01, tol=0.001 ....................................\n",
      "[CV] ..................... C=100, gamma=0.01, tol=0.001, total=   2.0s\n",
      "[CV] C=100, gamma=0.01, tol=0.001 ....................................\n",
      "[CV] ..................... C=100, gamma=0.01, tol=0.001, total=   2.1s\n",
      "[CV] C=100, gamma=0.01, tol=0.001 ....................................\n",
      "[CV] ..................... C=100, gamma=0.01, tol=0.001, total=   1.7s\n",
      "[CV] C=100, gamma=0.01, tol=0.001 ....................................\n",
      "[CV] ..................... C=100, gamma=0.01, tol=0.001, total=   2.1s\n",
      "[CV] C=100, gamma=0.01, tol=0.001 ....................................\n",
      "[CV] ..................... C=100, gamma=0.01, tol=0.001, total=   1.6s\n",
      "[CV] C=100, gamma=0.01, tol=0.01 .....................................\n",
      "[CV] ...................... C=100, gamma=0.01, tol=0.01, total=   1.4s\n",
      "[CV] C=100, gamma=0.01, tol=0.01 .....................................\n",
      "[CV] ...................... C=100, gamma=0.01, tol=0.01, total=   1.5s\n",
      "[CV] C=100, gamma=0.01, tol=0.01 .....................................\n",
      "[CV] ...................... C=100, gamma=0.01, tol=0.01, total=   1.3s\n",
      "[CV] C=100, gamma=0.01, tol=0.01 .....................................\n",
      "[CV] ...................... C=100, gamma=0.01, tol=0.01, total=   1.5s\n",
      "[CV] C=100, gamma=0.01, tol=0.01 .....................................\n",
      "[CV] ...................... C=100, gamma=0.01, tol=0.01, total=   1.3s\n",
      "[CV] C=100, gamma=0.1, tol=0.001 .....................................\n",
      "[CV] ...................... C=100, gamma=0.1, tol=0.001, total=   1.2s\n",
      "[CV] C=100, gamma=0.1, tol=0.001 .....................................\n",
      "[CV] ...................... C=100, gamma=0.1, tol=0.001, total=   1.1s\n",
      "[CV] C=100, gamma=0.1, tol=0.001 .....................................\n",
      "[CV] ...................... C=100, gamma=0.1, tol=0.001, total=   1.1s\n",
      "[CV] C=100, gamma=0.1, tol=0.001 .....................................\n",
      "[CV] ...................... C=100, gamma=0.1, tol=0.001, total=   1.1s\n",
      "[CV] C=100, gamma=0.1, tol=0.001 .....................................\n",
      "[CV] ...................... C=100, gamma=0.1, tol=0.001, total=   1.1s\n",
      "[CV] C=100, gamma=0.1, tol=0.01 ......................................\n",
      "[CV] ....................... C=100, gamma=0.1, tol=0.01, total=   1.1s\n",
      "[CV] C=100, gamma=0.1, tol=0.01 ......................................\n",
      "[CV] ....................... C=100, gamma=0.1, tol=0.01, total=   1.1s\n",
      "[CV] C=100, gamma=0.1, tol=0.01 ......................................\n",
      "[CV] ....................... C=100, gamma=0.1, tol=0.01, total=   1.0s\n",
      "[CV] C=100, gamma=0.1, tol=0.01 ......................................\n",
      "[CV] ....................... C=100, gamma=0.1, tol=0.01, total=   1.1s\n",
      "[CV] C=100, gamma=0.1, tol=0.01 ......................................\n",
      "[CV] ....................... C=100, gamma=0.1, tol=0.01, total=   1.1s\n"
     ]
    },
    {
     "name": "stderr",
     "output_type": "stream",
     "text": [
      "[Parallel(n_jobs=1)]: Done  60 out of  60 | elapsed:  1.2min finished\n"
     ]
    },
    {
     "name": "stdout",
     "output_type": "stream",
     "text": [
      "              precision    recall  f1-score   support\n",
      "\n",
      "           0    0.99906   0.99978   0.99942     13818\n",
      "           1    0.88000   0.62857   0.73333        35\n",
      "\n",
      "    accuracy                        0.99885     13853\n",
      "   macro avg    0.93953   0.81418   0.86638     13853\n",
      "weighted avg    0.99876   0.99885   0.99875     13853\n",
      "\n",
      "1\n",
      "Fitting 5 folds for each of 6 candidates, totalling 30 fits\n",
      "[CV] algorithm=auto, n_neighbors=1 ...................................\n"
     ]
    },
    {
     "name": "stderr",
     "output_type": "stream",
     "text": [
      "[Parallel(n_jobs=1)]: Using backend SequentialBackend with 1 concurrent workers.\n"
     ]
    },
    {
     "name": "stdout",
     "output_type": "stream",
     "text": [
      "[CV] .................... algorithm=auto, n_neighbors=1, total=   6.5s\n",
      "[CV] algorithm=auto, n_neighbors=1 ...................................\n"
     ]
    },
    {
     "name": "stderr",
     "output_type": "stream",
     "text": [
      "[Parallel(n_jobs=1)]: Done   1 out of   1 | elapsed:    6.4s remaining:    0.0s\n"
     ]
    },
    {
     "name": "stdout",
     "output_type": "stream",
     "text": [
      "[CV] .................... algorithm=auto, n_neighbors=1, total=   6.3s\n",
      "[CV] algorithm=auto, n_neighbors=1 ...................................\n",
      "[CV] .................... algorithm=auto, n_neighbors=1, total=   6.4s\n",
      "[CV] algorithm=auto, n_neighbors=1 ...................................\n",
      "[CV] .................... algorithm=auto, n_neighbors=1, total=   6.3s\n",
      "[CV] algorithm=auto, n_neighbors=1 ...................................\n",
      "[CV] .................... algorithm=auto, n_neighbors=1, total=   6.3s\n",
      "[CV] algorithm=auto, n_neighbors=5 ...................................\n",
      "[CV] .................... algorithm=auto, n_neighbors=5, total=   8.6s\n",
      "[CV] algorithm=auto, n_neighbors=5 ...................................\n",
      "[CV] .................... algorithm=auto, n_neighbors=5, total=   8.9s\n",
      "[CV] algorithm=auto, n_neighbors=5 ...................................\n",
      "[CV] .................... algorithm=auto, n_neighbors=5, total=   8.7s\n",
      "[CV] algorithm=auto, n_neighbors=5 ...................................\n",
      "[CV] .................... algorithm=auto, n_neighbors=5, total=   8.7s\n",
      "[CV] algorithm=auto, n_neighbors=5 ...................................\n",
      "[CV] .................... algorithm=auto, n_neighbors=5, total=   8.7s\n",
      "[CV] algorithm=auto, n_neighbors=10 ..................................\n",
      "[CV] ................... algorithm=auto, n_neighbors=10, total=   8.7s\n",
      "[CV] algorithm=auto, n_neighbors=10 ..................................\n",
      "[CV] ................... algorithm=auto, n_neighbors=10, total=   8.8s\n",
      "[CV] algorithm=auto, n_neighbors=10 ..................................\n",
      "[CV] ................... algorithm=auto, n_neighbors=10, total=   8.7s\n",
      "[CV] algorithm=auto, n_neighbors=10 ..................................\n",
      "[CV] ................... algorithm=auto, n_neighbors=10, total=   8.8s\n",
      "[CV] algorithm=auto, n_neighbors=10 ..................................\n",
      "[CV] ................... algorithm=auto, n_neighbors=10, total=   8.7s\n",
      "[CV] algorithm=auto, n_neighbors=15 ..................................\n",
      "[CV] ................... algorithm=auto, n_neighbors=15, total=   8.7s\n",
      "[CV] algorithm=auto, n_neighbors=15 ..................................\n",
      "[CV] ................... algorithm=auto, n_neighbors=15, total=   8.8s\n",
      "[CV] algorithm=auto, n_neighbors=15 ..................................\n",
      "[CV] ................... algorithm=auto, n_neighbors=15, total=   8.8s\n",
      "[CV] algorithm=auto, n_neighbors=15 ..................................\n",
      "[CV] ................... algorithm=auto, n_neighbors=15, total=   8.8s\n",
      "[CV] algorithm=auto, n_neighbors=15 ..................................\n",
      "[CV] ................... algorithm=auto, n_neighbors=15, total=   8.8s\n",
      "[CV] algorithm=auto, n_neighbors=20 ..................................\n",
      "[CV] ................... algorithm=auto, n_neighbors=20, total=   8.7s\n",
      "[CV] algorithm=auto, n_neighbors=20 ..................................\n",
      "[CV] ................... algorithm=auto, n_neighbors=20, total=   8.7s\n",
      "[CV] algorithm=auto, n_neighbors=20 ..................................\n",
      "[CV] ................... algorithm=auto, n_neighbors=20, total=   8.8s\n",
      "[CV] algorithm=auto, n_neighbors=20 ..................................\n",
      "[CV] ................... algorithm=auto, n_neighbors=20, total=   8.8s\n",
      "[CV] algorithm=auto, n_neighbors=20 ..................................\n",
      "[CV] ................... algorithm=auto, n_neighbors=20, total=   8.7s\n",
      "[CV] algorithm=auto, n_neighbors=50 ..................................\n",
      "[CV] ................... algorithm=auto, n_neighbors=50, total=   8.7s\n",
      "[CV] algorithm=auto, n_neighbors=50 ..................................\n",
      "[CV] ................... algorithm=auto, n_neighbors=50, total=   8.8s\n",
      "[CV] algorithm=auto, n_neighbors=50 ..................................\n",
      "[CV] ................... algorithm=auto, n_neighbors=50, total=   8.8s\n",
      "[CV] algorithm=auto, n_neighbors=50 ..................................\n",
      "[CV] ................... algorithm=auto, n_neighbors=50, total=   8.9s\n",
      "[CV] algorithm=auto, n_neighbors=50 ..................................\n",
      "[CV] ................... algorithm=auto, n_neighbors=50, total=   8.8s\n"
     ]
    },
    {
     "name": "stderr",
     "output_type": "stream",
     "text": [
      "[Parallel(n_jobs=1)]: Done  30 out of  30 | elapsed:  4.2min finished\n"
     ]
    },
    {
     "name": "stdout",
     "output_type": "stream",
     "text": [
      "              precision    recall  f1-score   support\n",
      "\n",
      "           0    0.99769   1.00000   0.99884     13818\n",
      "           1    1.00000   0.08571   0.15789        35\n",
      "\n",
      "    accuracy                        0.99769     13853\n",
      "   macro avg    0.99884   0.54286   0.57837     13853\n",
      "weighted avg    0.99770   0.99769   0.99672     13853\n",
      "\n",
      "2\n",
      "Fitting 5 folds for each of 18 candidates, totalling 90 fits\n",
      "[CV] C=1, multi_class=ovr, solver=newton-cg, tol=0.001 ...............\n",
      "[CV]  C=1, multi_class=ovr, solver=newton-cg, tol=0.001, total=   0.1s\n",
      "[CV] C=1, multi_class=ovr, solver=newton-cg, tol=0.001 ...............\n"
     ]
    },
    {
     "name": "stderr",
     "output_type": "stream",
     "text": [
      "[Parallel(n_jobs=1)]: Using backend SequentialBackend with 1 concurrent workers.\n",
      "[Parallel(n_jobs=1)]: Done   1 out of   1 | elapsed:    0.0s remaining:    0.0s\n"
     ]
    },
    {
     "name": "stdout",
     "output_type": "stream",
     "text": [
      "[CV]  C=1, multi_class=ovr, solver=newton-cg, tol=0.001, total=   0.1s\n",
      "[CV] C=1, multi_class=ovr, solver=newton-cg, tol=0.001 ...............\n",
      "[CV]  C=1, multi_class=ovr, solver=newton-cg, tol=0.001, total=   0.1s\n",
      "[CV] C=1, multi_class=ovr, solver=newton-cg, tol=0.001 ...............\n",
      "[CV]  C=1, multi_class=ovr, solver=newton-cg, tol=0.001, total=   0.1s\n",
      "[CV] C=1, multi_class=ovr, solver=newton-cg, tol=0.001 ...............\n",
      "[CV]  C=1, multi_class=ovr, solver=newton-cg, tol=0.001, total=   0.1s\n",
      "[CV] C=1, multi_class=ovr, solver=newton-cg, tol=0.01 ................\n",
      "[CV] . C=1, multi_class=ovr, solver=newton-cg, tol=0.01, total=   0.1s\n",
      "[CV] C=1, multi_class=ovr, solver=newton-cg, tol=0.01 ................\n",
      "[CV] . C=1, multi_class=ovr, solver=newton-cg, tol=0.01, total=   0.1s\n",
      "[CV] C=1, multi_class=ovr, solver=newton-cg, tol=0.01 ................\n",
      "[CV] . C=1, multi_class=ovr, solver=newton-cg, tol=0.01, total=   0.1s\n",
      "[CV] C=1, multi_class=ovr, solver=newton-cg, tol=0.01 ................\n",
      "[CV] . C=1, multi_class=ovr, solver=newton-cg, tol=0.01, total=   0.1s\n",
      "[CV] C=1, multi_class=ovr, solver=newton-cg, tol=0.01 ................\n",
      "[CV] . C=1, multi_class=ovr, solver=newton-cg, tol=0.01, total=   0.1s\n",
      "[CV] C=1, multi_class=ovr, solver=sag, tol=0.001 .....................\n",
      "[CV] ...... C=1, multi_class=ovr, solver=sag, tol=0.001, total=   0.0s\n",
      "[CV] C=1, multi_class=ovr, solver=sag, tol=0.001 .....................\n",
      "[CV] ...... C=1, multi_class=ovr, solver=sag, tol=0.001, total=   0.1s\n",
      "[CV] C=1, multi_class=ovr, solver=sag, tol=0.001 .....................\n",
      "[CV] ...... C=1, multi_class=ovr, solver=sag, tol=0.001, total=   0.1s\n",
      "[CV] C=1, multi_class=ovr, solver=sag, tol=0.001 .....................\n",
      "[CV] ...... C=1, multi_class=ovr, solver=sag, tol=0.001, total=   0.0s\n",
      "[CV] C=1, multi_class=ovr, solver=sag, tol=0.001 .....................\n",
      "[CV] ...... C=1, multi_class=ovr, solver=sag, tol=0.001, total=   0.0s\n",
      "[CV] C=1, multi_class=ovr, solver=sag, tol=0.01 ......................\n",
      "[CV] ....... C=1, multi_class=ovr, solver=sag, tol=0.01, total=   0.0s\n",
      "[CV] C=1, multi_class=ovr, solver=sag, tol=0.01 ......................\n",
      "[CV] ....... C=1, multi_class=ovr, solver=sag, tol=0.01, total=   0.0s\n",
      "[CV] C=1, multi_class=ovr, solver=sag, tol=0.01 ......................\n",
      "[CV] ....... C=1, multi_class=ovr, solver=sag, tol=0.01, total=   0.0s\n",
      "[CV] C=1, multi_class=ovr, solver=sag, tol=0.01 ......................\n",
      "[CV] ....... C=1, multi_class=ovr, solver=sag, tol=0.01, total=   0.0s\n",
      "[CV] C=1, multi_class=ovr, solver=sag, tol=0.01 ......................\n",
      "[CV] ....... C=1, multi_class=ovr, solver=sag, tol=0.01, total=   0.0s\n",
      "[CV] C=1, multi_class=ovr, solver=lbfgs, tol=0.001 ...................\n",
      "[CV] .... C=1, multi_class=ovr, solver=lbfgs, tol=0.001, total=   0.1s\n",
      "[CV] C=1, multi_class=ovr, solver=lbfgs, tol=0.001 ...................\n",
      "[CV] .... C=1, multi_class=ovr, solver=lbfgs, tol=0.001, total=   0.1s\n",
      "[CV] C=1, multi_class=ovr, solver=lbfgs, tol=0.001 ...................\n",
      "[CV] .... C=1, multi_class=ovr, solver=lbfgs, tol=0.001, total=   0.1s\n",
      "[CV] C=1, multi_class=ovr, solver=lbfgs, tol=0.001 ...................\n",
      "[CV] .... C=1, multi_class=ovr, solver=lbfgs, tol=0.001, total=   0.1s\n",
      "[CV] C=1, multi_class=ovr, solver=lbfgs, tol=0.001 ...................\n",
      "[CV] .... C=1, multi_class=ovr, solver=lbfgs, tol=0.001, total=   0.1s\n",
      "[CV] C=1, multi_class=ovr, solver=lbfgs, tol=0.01 ....................\n",
      "[CV] ..... C=1, multi_class=ovr, solver=lbfgs, tol=0.01, total=   0.1s\n",
      "[CV] C=1, multi_class=ovr, solver=lbfgs, tol=0.01 ....................\n",
      "[CV] ..... C=1, multi_class=ovr, solver=lbfgs, tol=0.01, total=   0.1s\n",
      "[CV] C=1, multi_class=ovr, solver=lbfgs, tol=0.01 ....................\n",
      "[CV] ..... C=1, multi_class=ovr, solver=lbfgs, tol=0.01, total=   0.1s\n",
      "[CV] C=1, multi_class=ovr, solver=lbfgs, tol=0.01 ....................\n",
      "[CV] ..... C=1, multi_class=ovr, solver=lbfgs, tol=0.01, total=   0.1s\n",
      "[CV] C=1, multi_class=ovr, solver=lbfgs, tol=0.01 ....................\n",
      "[CV] ..... C=1, multi_class=ovr, solver=lbfgs, tol=0.01, total=   0.1s\n",
      "[CV] C=10, multi_class=ovr, solver=newton-cg, tol=0.001 ..............\n",
      "[CV]  C=10, multi_class=ovr, solver=newton-cg, tol=0.001, total=   0.2s\n",
      "[CV] C=10, multi_class=ovr, solver=newton-cg, tol=0.001 ..............\n",
      "[CV]  C=10, multi_class=ovr, solver=newton-cg, tol=0.001, total=   0.2s\n",
      "[CV] C=10, multi_class=ovr, solver=newton-cg, tol=0.001 ..............\n",
      "[CV]  C=10, multi_class=ovr, solver=newton-cg, tol=0.001, total=   0.2s\n",
      "[CV] C=10, multi_class=ovr, solver=newton-cg, tol=0.001 ..............\n",
      "[CV]  C=10, multi_class=ovr, solver=newton-cg, tol=0.001, total=   0.2s\n",
      "[CV] C=10, multi_class=ovr, solver=newton-cg, tol=0.001 ..............\n",
      "[CV]  C=10, multi_class=ovr, solver=newton-cg, tol=0.001, total=   0.2s\n",
      "[CV] C=10, multi_class=ovr, solver=newton-cg, tol=0.01 ...............\n",
      "[CV]  C=10, multi_class=ovr, solver=newton-cg, tol=0.01, total=   0.1s\n",
      "[CV] C=10, multi_class=ovr, solver=newton-cg, tol=0.01 ...............\n",
      "[CV]  C=10, multi_class=ovr, solver=newton-cg, tol=0.01, total=   0.2s\n",
      "[CV] C=10, multi_class=ovr, solver=newton-cg, tol=0.01 ...............\n",
      "[CV]  C=10, multi_class=ovr, solver=newton-cg, tol=0.01, total=   0.1s\n",
      "[CV] C=10, multi_class=ovr, solver=newton-cg, tol=0.01 ...............\n",
      "[CV]  C=10, multi_class=ovr, solver=newton-cg, tol=0.01, total=   0.1s\n",
      "[CV] C=10, multi_class=ovr, solver=newton-cg, tol=0.01 ...............\n",
      "[CV]  C=10, multi_class=ovr, solver=newton-cg, tol=0.01, total=   0.1s\n",
      "[CV] C=10, multi_class=ovr, solver=sag, tol=0.001 ....................\n",
      "[CV] ..... C=10, multi_class=ovr, solver=sag, tol=0.001, total=   0.1s\n",
      "[CV] C=10, multi_class=ovr, solver=sag, tol=0.001 ....................\n",
      "[CV] ..... C=10, multi_class=ovr, solver=sag, tol=0.001, total=   0.1s\n",
      "[CV] C=10, multi_class=ovr, solver=sag, tol=0.001 ....................\n",
      "[CV] ..... C=10, multi_class=ovr, solver=sag, tol=0.001, total=   0.1s\n",
      "[CV] C=10, multi_class=ovr, solver=sag, tol=0.001 ....................\n",
      "[CV] ..... C=10, multi_class=ovr, solver=sag, tol=0.001, total=   0.1s\n",
      "[CV] C=10, multi_class=ovr, solver=sag, tol=0.001 ....................\n",
      "[CV] ..... C=10, multi_class=ovr, solver=sag, tol=0.001, total=   0.1s\n",
      "[CV] C=10, multi_class=ovr, solver=sag, tol=0.01 .....................\n",
      "[CV] ...... C=10, multi_class=ovr, solver=sag, tol=0.01, total=   0.1s\n",
      "[CV] C=10, multi_class=ovr, solver=sag, tol=0.01 .....................\n",
      "[CV] ...... C=10, multi_class=ovr, solver=sag, tol=0.01, total=   0.1s\n",
      "[CV] C=10, multi_class=ovr, solver=sag, tol=0.01 .....................\n",
      "[CV] ...... C=10, multi_class=ovr, solver=sag, tol=0.01, total=   0.1s\n",
      "[CV] C=10, multi_class=ovr, solver=sag, tol=0.01 .....................\n",
      "[CV] ...... C=10, multi_class=ovr, solver=sag, tol=0.01, total=   0.1s\n",
      "[CV] C=10, multi_class=ovr, solver=sag, tol=0.01 .....................\n",
      "[CV] ...... C=10, multi_class=ovr, solver=sag, tol=0.01, total=   0.1s\n",
      "[CV] C=10, multi_class=ovr, solver=lbfgs, tol=0.001 ..................\n",
      "[CV] ... C=10, multi_class=ovr, solver=lbfgs, tol=0.001, total=   0.1s\n",
      "[CV] C=10, multi_class=ovr, solver=lbfgs, tol=0.001 ..................\n",
      "[CV] ... C=10, multi_class=ovr, solver=lbfgs, tol=0.001, total=   0.1s\n",
      "[CV] C=10, multi_class=ovr, solver=lbfgs, tol=0.001 ..................\n",
      "[CV] ... C=10, multi_class=ovr, solver=lbfgs, tol=0.001, total=   0.1s\n",
      "[CV] C=10, multi_class=ovr, solver=lbfgs, tol=0.001 ..................\n",
      "[CV] ... C=10, multi_class=ovr, solver=lbfgs, tol=0.001, total=   0.2s\n",
      "[CV] C=10, multi_class=ovr, solver=lbfgs, tol=0.001 ..................\n",
      "[CV] ... C=10, multi_class=ovr, solver=lbfgs, tol=0.001, total=   0.2s\n",
      "[CV] C=10, multi_class=ovr, solver=lbfgs, tol=0.01 ...................\n",
      "[CV] .... C=10, multi_class=ovr, solver=lbfgs, tol=0.01, total=   0.1s\n",
      "[CV] C=10, multi_class=ovr, solver=lbfgs, tol=0.01 ...................\n",
      "[CV] .... C=10, multi_class=ovr, solver=lbfgs, tol=0.01, total=   0.1s\n",
      "[CV] C=10, multi_class=ovr, solver=lbfgs, tol=0.01 ...................\n",
      "[CV] .... C=10, multi_class=ovr, solver=lbfgs, tol=0.01, total=   0.1s\n",
      "[CV] C=10, multi_class=ovr, solver=lbfgs, tol=0.01 ...................\n",
      "[CV] .... C=10, multi_class=ovr, solver=lbfgs, tol=0.01, total=   0.1s\n",
      "[CV] C=10, multi_class=ovr, solver=lbfgs, tol=0.01 ...................\n",
      "[CV] .... C=10, multi_class=ovr, solver=lbfgs, tol=0.01, total=   0.1s\n",
      "[CV] C=100, multi_class=ovr, solver=newton-cg, tol=0.001 .............\n",
      "[CV]  C=100, multi_class=ovr, solver=newton-cg, tol=0.001, total=   0.2s\n",
      "[CV] C=100, multi_class=ovr, solver=newton-cg, tol=0.001 .............\n",
      "[CV]  C=100, multi_class=ovr, solver=newton-cg, tol=0.001, total=   0.2s\n",
      "[CV] C=100, multi_class=ovr, solver=newton-cg, tol=0.001 .............\n",
      "[CV]  C=100, multi_class=ovr, solver=newton-cg, tol=0.001, total=   0.2s\n",
      "[CV] C=100, multi_class=ovr, solver=newton-cg, tol=0.001 .............\n",
      "[CV]  C=100, multi_class=ovr, solver=newton-cg, tol=0.001, total=   0.2s\n",
      "[CV] C=100, multi_class=ovr, solver=newton-cg, tol=0.001 .............\n",
      "[CV]  C=100, multi_class=ovr, solver=newton-cg, tol=0.001, total=   0.2s\n",
      "[CV] C=100, multi_class=ovr, solver=newton-cg, tol=0.01 ..............\n",
      "[CV]  C=100, multi_class=ovr, solver=newton-cg, tol=0.01, total=   0.2s\n",
      "[CV] C=100, multi_class=ovr, solver=newton-cg, tol=0.01 ..............\n",
      "[CV]  C=100, multi_class=ovr, solver=newton-cg, tol=0.01, total=   0.2s\n",
      "[CV] C=100, multi_class=ovr, solver=newton-cg, tol=0.01 ..............\n",
      "[CV]  C=100, multi_class=ovr, solver=newton-cg, tol=0.01, total=   0.2s\n",
      "[CV] C=100, multi_class=ovr, solver=newton-cg, tol=0.01 ..............\n",
      "[CV]  C=100, multi_class=ovr, solver=newton-cg, tol=0.01, total=   0.2s\n",
      "[CV] C=100, multi_class=ovr, solver=newton-cg, tol=0.01 ..............\n",
      "[CV]  C=100, multi_class=ovr, solver=newton-cg, tol=0.01, total=   0.2s\n",
      "[CV] C=100, multi_class=ovr, solver=sag, tol=0.001 ...................\n",
      "[CV] .... C=100, multi_class=ovr, solver=sag, tol=0.001, total=   0.3s\n",
      "[CV] C=100, multi_class=ovr, solver=sag, tol=0.001 ...................\n",
      "[CV] .... C=100, multi_class=ovr, solver=sag, tol=0.001, total=   0.2s\n",
      "[CV] C=100, multi_class=ovr, solver=sag, tol=0.001 ...................\n",
      "[CV] .... C=100, multi_class=ovr, solver=sag, tol=0.001, total=   0.3s\n",
      "[CV] C=100, multi_class=ovr, solver=sag, tol=0.001 ...................\n",
      "[CV] .... C=100, multi_class=ovr, solver=sag, tol=0.001, total=   0.3s\n",
      "[CV] C=100, multi_class=ovr, solver=sag, tol=0.001 ...................\n",
      "[CV] .... C=100, multi_class=ovr, solver=sag, tol=0.001, total=   0.3s\n",
      "[CV] C=100, multi_class=ovr, solver=sag, tol=0.01 ....................\n",
      "[CV] ..... C=100, multi_class=ovr, solver=sag, tol=0.01, total=   0.1s\n",
      "[CV] C=100, multi_class=ovr, solver=sag, tol=0.01 ....................\n",
      "[CV] ..... C=100, multi_class=ovr, solver=sag, tol=0.01, total=   0.1s\n",
      "[CV] C=100, multi_class=ovr, solver=sag, tol=0.01 ....................\n",
      "[CV] ..... C=100, multi_class=ovr, solver=sag, tol=0.01, total=   0.1s\n",
      "[CV] C=100, multi_class=ovr, solver=sag, tol=0.01 ....................\n",
      "[CV] ..... C=100, multi_class=ovr, solver=sag, tol=0.01, total=   0.1s\n",
      "[CV] C=100, multi_class=ovr, solver=sag, tol=0.01 ....................\n",
      "[CV] ..... C=100, multi_class=ovr, solver=sag, tol=0.01, total=   0.1s\n",
      "[CV] C=100, multi_class=ovr, solver=lbfgs, tol=0.001 .................\n"
     ]
    },
    {
     "name": "stderr",
     "output_type": "stream",
     "text": [
      "C:\\ProgramData\\Anaconda3\\lib\\site-packages\\sklearn\\linear_model\\_logistic.py:940: ConvergenceWarning: lbfgs failed to converge (status=1):\n",
      "STOP: TOTAL NO. of ITERATIONS REACHED LIMIT.\n",
      "\n",
      "Increase the number of iterations (max_iter) or scale the data as shown in:\n",
      "    https://scikit-learn.org/stable/modules/preprocessing.html\n",
      "Please also refer to the documentation for alternative solver options:\n",
      "    https://scikit-learn.org/stable/modules/linear_model.html#logistic-regression\n",
      "  extra_warning_msg=_LOGISTIC_SOLVER_CONVERGENCE_MSG)\n"
     ]
    },
    {
     "name": "stdout",
     "output_type": "stream",
     "text": [
      "[CV] .. C=100, multi_class=ovr, solver=lbfgs, tol=0.001, total=   0.2s\n",
      "[CV] C=100, multi_class=ovr, solver=lbfgs, tol=0.001 .................\n",
      "[CV] .. C=100, multi_class=ovr, solver=lbfgs, tol=0.001, total=   0.2s\n",
      "[CV] C=100, multi_class=ovr, solver=lbfgs, tol=0.001 .................\n"
     ]
    },
    {
     "name": "stderr",
     "output_type": "stream",
     "text": [
      "C:\\ProgramData\\Anaconda3\\lib\\site-packages\\sklearn\\linear_model\\_logistic.py:940: ConvergenceWarning: lbfgs failed to converge (status=1):\n",
      "STOP: TOTAL NO. of ITERATIONS REACHED LIMIT.\n",
      "\n",
      "Increase the number of iterations (max_iter) or scale the data as shown in:\n",
      "    https://scikit-learn.org/stable/modules/preprocessing.html\n",
      "Please also refer to the documentation for alternative solver options:\n",
      "    https://scikit-learn.org/stable/modules/linear_model.html#logistic-regression\n",
      "  extra_warning_msg=_LOGISTIC_SOLVER_CONVERGENCE_MSG)\n"
     ]
    },
    {
     "name": "stdout",
     "output_type": "stream",
     "text": [
      "[CV] .. C=100, multi_class=ovr, solver=lbfgs, tol=0.001, total=   0.2s\n",
      "[CV] C=100, multi_class=ovr, solver=lbfgs, tol=0.001 .................\n"
     ]
    },
    {
     "name": "stderr",
     "output_type": "stream",
     "text": [
      "C:\\ProgramData\\Anaconda3\\lib\\site-packages\\sklearn\\linear_model\\_logistic.py:940: ConvergenceWarning: lbfgs failed to converge (status=1):\n",
      "STOP: TOTAL NO. of ITERATIONS REACHED LIMIT.\n",
      "\n",
      "Increase the number of iterations (max_iter) or scale the data as shown in:\n",
      "    https://scikit-learn.org/stable/modules/preprocessing.html\n",
      "Please also refer to the documentation for alternative solver options:\n",
      "    https://scikit-learn.org/stable/modules/linear_model.html#logistic-regression\n",
      "  extra_warning_msg=_LOGISTIC_SOLVER_CONVERGENCE_MSG)\n"
     ]
    },
    {
     "name": "stdout",
     "output_type": "stream",
     "text": [
      "[CV] .. C=100, multi_class=ovr, solver=lbfgs, tol=0.001, total=   0.2s\n",
      "[CV] C=100, multi_class=ovr, solver=lbfgs, tol=0.001 .................\n"
     ]
    },
    {
     "name": "stderr",
     "output_type": "stream",
     "text": [
      "C:\\ProgramData\\Anaconda3\\lib\\site-packages\\sklearn\\linear_model\\_logistic.py:940: ConvergenceWarning: lbfgs failed to converge (status=1):\n",
      "STOP: TOTAL NO. of ITERATIONS REACHED LIMIT.\n",
      "\n",
      "Increase the number of iterations (max_iter) or scale the data as shown in:\n",
      "    https://scikit-learn.org/stable/modules/preprocessing.html\n",
      "Please also refer to the documentation for alternative solver options:\n",
      "    https://scikit-learn.org/stable/modules/linear_model.html#logistic-regression\n",
      "  extra_warning_msg=_LOGISTIC_SOLVER_CONVERGENCE_MSG)\n"
     ]
    },
    {
     "name": "stdout",
     "output_type": "stream",
     "text": [
      "[CV] .. C=100, multi_class=ovr, solver=lbfgs, tol=0.001, total=   0.2s\n",
      "[CV] C=100, multi_class=ovr, solver=lbfgs, tol=0.01 ..................\n",
      "[CV] ... C=100, multi_class=ovr, solver=lbfgs, tol=0.01, total=   0.2s\n",
      "[CV] C=100, multi_class=ovr, solver=lbfgs, tol=0.01 ..................\n",
      "[CV] ... C=100, multi_class=ovr, solver=lbfgs, tol=0.01, total=   0.2s\n",
      "[CV] C=100, multi_class=ovr, solver=lbfgs, tol=0.01 ..................\n",
      "[CV] ... C=100, multi_class=ovr, solver=lbfgs, tol=0.01, total=   0.1s\n",
      "[CV] C=100, multi_class=ovr, solver=lbfgs, tol=0.01 ..................\n",
      "[CV] ... C=100, multi_class=ovr, solver=lbfgs, tol=0.01, total=   0.2s\n",
      "[CV] C=100, multi_class=ovr, solver=lbfgs, tol=0.01 ..................\n",
      "[CV] ... C=100, multi_class=ovr, solver=lbfgs, tol=0.01, total=   0.1s\n"
     ]
    },
    {
     "name": "stderr",
     "output_type": "stream",
     "text": [
      "[Parallel(n_jobs=1)]: Done  90 out of  90 | elapsed:   11.4s finished\n"
     ]
    },
    {
     "name": "stdout",
     "output_type": "stream",
     "text": [
      "              precision    recall  f1-score   support\n",
      "\n",
      "           0    0.99877   0.99978   0.99928     13818\n",
      "           1    0.85714   0.51429   0.64286        35\n",
      "\n",
      "    accuracy                        0.99856     13853\n",
      "   macro avg    0.92796   0.75703   0.82107     13853\n",
      "weighted avg    0.99841   0.99856   0.99838     13853\n",
      "\n",
      "3\n",
      "Fitting 5 folds for each of 1 candidates, totalling 5 fits\n",
      "[CV]  ................................................................\n",
      "[CV] ................................................. , total=   0.2s\n",
      "[CV]  ................................................................\n"
     ]
    },
    {
     "name": "stderr",
     "output_type": "stream",
     "text": [
      "[Parallel(n_jobs=1)]: Using backend SequentialBackend with 1 concurrent workers.\n",
      "[Parallel(n_jobs=1)]: Done   1 out of   1 | elapsed:    0.1s remaining:    0.0s\n"
     ]
    },
    {
     "name": "stdout",
     "output_type": "stream",
     "text": [
      "[CV] ................................................. , total=   0.2s\n",
      "[CV]  ................................................................\n",
      "[CV] ................................................. , total=   0.1s\n",
      "[CV]  ................................................................\n",
      "[CV] ................................................. , total=   0.2s\n",
      "[CV]  ................................................................\n",
      "[CV] ................................................. , total=   0.2s\n"
     ]
    },
    {
     "name": "stderr",
     "output_type": "stream",
     "text": [
      "[Parallel(n_jobs=1)]: Done   5 out of   5 | elapsed:    0.7s finished\n"
     ]
    },
    {
     "name": "stdout",
     "output_type": "stream",
     "text": [
      "              precision    recall  f1-score   support\n",
      "\n",
      "           0    0.99913   0.99986   0.99949     13818\n",
      "           1    0.92000   0.65714   0.76667        35\n",
      "\n",
      "    accuracy                        0.99899     13853\n",
      "   macro avg    0.95957   0.82850   0.88308     13853\n",
      "weighted avg    0.99893   0.99899   0.99891     13853\n",
      "\n"
     ]
    }
   ],
   "source": [
    "for i in range(len(list_classifier)) :\n",
    "    print(i)\n",
    "    clf = GridSearchCV(list_classifier[i], list_tune[i], cv=5,scoring='f1_macro',verbose = 2)\n",
    "    clf.fit(train_features, train_labels)\n",
    "    ans = clf.predict(val_features)\n",
    "    print(classification_report(val_labels,ans,digits=5))"
   ]
  },
  {
   "cell_type": "markdown",
   "metadata": {},
   "source": [
    "---------------------------------"
   ]
  },
  {
   "cell_type": "code",
   "execution_count": 13,
   "metadata": {},
   "outputs": [
    {
     "ename": "ValueError",
     "evalue": "cannot use sparse input in 'SVC' trained on dense data",
     "output_type": "error",
     "traceback": [
      "\u001b[1;31m---------------------------------------------------------------------------\u001b[0m",
      "\u001b[1;31mValueError\u001b[0m                                Traceback (most recent call last)",
      "\u001b[1;32m<ipython-input-13-ae77d9af9972>\u001b[0m in \u001b[0;36m<module>\u001b[1;34m\u001b[0m\n\u001b[0;32m      1\u001b[0m \u001b[0msvc\u001b[0m\u001b[1;33m.\u001b[0m\u001b[0mfit\u001b[0m\u001b[1;33m(\u001b[0m\u001b[0mtrain_features2\u001b[0m\u001b[1;33m,\u001b[0m \u001b[0mtrain_labels\u001b[0m\u001b[1;33m)\u001b[0m\u001b[1;33m\u001b[0m\u001b[1;33m\u001b[0m\u001b[0m\n\u001b[1;32m----> 2\u001b[1;33m \u001b[0mans\u001b[0m \u001b[1;33m=\u001b[0m \u001b[0msvc\u001b[0m\u001b[1;33m.\u001b[0m\u001b[0mpredict\u001b[0m\u001b[1;33m(\u001b[0m\u001b[0mval_features\u001b[0m\u001b[1;33m)\u001b[0m\u001b[1;33m\u001b[0m\u001b[1;33m\u001b[0m\u001b[0m\n\u001b[0m\u001b[0;32m      3\u001b[0m \u001b[0mprint\u001b[0m\u001b[1;33m(\u001b[0m\u001b[0mclassification_report\u001b[0m\u001b[1;33m(\u001b[0m\u001b[0mval_labels\u001b[0m\u001b[1;33m,\u001b[0m\u001b[0mans\u001b[0m\u001b[1;33m,\u001b[0m\u001b[0mdigits\u001b[0m\u001b[1;33m=\u001b[0m\u001b[1;36m5\u001b[0m\u001b[1;33m)\u001b[0m\u001b[1;33m)\u001b[0m\u001b[1;33m\u001b[0m\u001b[1;33m\u001b[0m\u001b[0m\n",
      "\u001b[1;32mC:\\ProgramData\\Anaconda3\\lib\\site-packages\\sklearn\\svm\\_base.py\u001b[0m in \u001b[0;36mpredict\u001b[1;34m(self, X)\u001b[0m\n\u001b[0;32m    592\u001b[0m             \u001b[0my\u001b[0m \u001b[1;33m=\u001b[0m \u001b[0mnp\u001b[0m\u001b[1;33m.\u001b[0m\u001b[0margmax\u001b[0m\u001b[1;33m(\u001b[0m\u001b[0mself\u001b[0m\u001b[1;33m.\u001b[0m\u001b[0mdecision_function\u001b[0m\u001b[1;33m(\u001b[0m\u001b[0mX\u001b[0m\u001b[1;33m)\u001b[0m\u001b[1;33m,\u001b[0m \u001b[0maxis\u001b[0m\u001b[1;33m=\u001b[0m\u001b[1;36m1\u001b[0m\u001b[1;33m)\u001b[0m\u001b[1;33m\u001b[0m\u001b[1;33m\u001b[0m\u001b[0m\n\u001b[0;32m    593\u001b[0m         \u001b[1;32melse\u001b[0m\u001b[1;33m:\u001b[0m\u001b[1;33m\u001b[0m\u001b[1;33m\u001b[0m\u001b[0m\n\u001b[1;32m--> 594\u001b[1;33m             \u001b[0my\u001b[0m \u001b[1;33m=\u001b[0m \u001b[0msuper\u001b[0m\u001b[1;33m(\u001b[0m\u001b[1;33m)\u001b[0m\u001b[1;33m.\u001b[0m\u001b[0mpredict\u001b[0m\u001b[1;33m(\u001b[0m\u001b[0mX\u001b[0m\u001b[1;33m)\u001b[0m\u001b[1;33m\u001b[0m\u001b[1;33m\u001b[0m\u001b[0m\n\u001b[0m\u001b[0;32m    595\u001b[0m         \u001b[1;32mreturn\u001b[0m \u001b[0mself\u001b[0m\u001b[1;33m.\u001b[0m\u001b[0mclasses_\u001b[0m\u001b[1;33m.\u001b[0m\u001b[0mtake\u001b[0m\u001b[1;33m(\u001b[0m\u001b[0mnp\u001b[0m\u001b[1;33m.\u001b[0m\u001b[0masarray\u001b[0m\u001b[1;33m(\u001b[0m\u001b[0my\u001b[0m\u001b[1;33m,\u001b[0m \u001b[0mdtype\u001b[0m\u001b[1;33m=\u001b[0m\u001b[0mnp\u001b[0m\u001b[1;33m.\u001b[0m\u001b[0mintp\u001b[0m\u001b[1;33m)\u001b[0m\u001b[1;33m)\u001b[0m\u001b[1;33m\u001b[0m\u001b[1;33m\u001b[0m\u001b[0m\n\u001b[0;32m    596\u001b[0m \u001b[1;33m\u001b[0m\u001b[0m\n",
      "\u001b[1;32mC:\\ProgramData\\Anaconda3\\lib\\site-packages\\sklearn\\svm\\_base.py\u001b[0m in \u001b[0;36mpredict\u001b[1;34m(self, X)\u001b[0m\n\u001b[0;32m    313\u001b[0m         \u001b[0my_pred\u001b[0m \u001b[1;33m:\u001b[0m \u001b[0marray\u001b[0m\u001b[1;33m,\u001b[0m \u001b[0mshape\u001b[0m \u001b[1;33m(\u001b[0m\u001b[0mn_samples\u001b[0m\u001b[1;33m,\u001b[0m\u001b[1;33m)\u001b[0m\u001b[1;33m\u001b[0m\u001b[1;33m\u001b[0m\u001b[0m\n\u001b[0;32m    314\u001b[0m         \"\"\"\n\u001b[1;32m--> 315\u001b[1;33m         \u001b[0mX\u001b[0m \u001b[1;33m=\u001b[0m \u001b[0mself\u001b[0m\u001b[1;33m.\u001b[0m\u001b[0m_validate_for_predict\u001b[0m\u001b[1;33m(\u001b[0m\u001b[0mX\u001b[0m\u001b[1;33m)\u001b[0m\u001b[1;33m\u001b[0m\u001b[1;33m\u001b[0m\u001b[0m\n\u001b[0m\u001b[0;32m    316\u001b[0m         \u001b[0mpredict\u001b[0m \u001b[1;33m=\u001b[0m \u001b[0mself\u001b[0m\u001b[1;33m.\u001b[0m\u001b[0m_sparse_predict\u001b[0m \u001b[1;32mif\u001b[0m \u001b[0mself\u001b[0m\u001b[1;33m.\u001b[0m\u001b[0m_sparse\u001b[0m \u001b[1;32melse\u001b[0m \u001b[0mself\u001b[0m\u001b[1;33m.\u001b[0m\u001b[0m_dense_predict\u001b[0m\u001b[1;33m\u001b[0m\u001b[1;33m\u001b[0m\u001b[0m\n\u001b[0;32m    317\u001b[0m         \u001b[1;32mreturn\u001b[0m \u001b[0mpredict\u001b[0m\u001b[1;33m(\u001b[0m\u001b[0mX\u001b[0m\u001b[1;33m)\u001b[0m\u001b[1;33m\u001b[0m\u001b[1;33m\u001b[0m\u001b[0m\n",
      "\u001b[1;32mC:\\ProgramData\\Anaconda3\\lib\\site-packages\\sklearn\\svm\\_base.py\u001b[0m in \u001b[0;36m_validate_for_predict\u001b[1;34m(self, X)\u001b[0m\n\u001b[0;32m    454\u001b[0m             raise ValueError(\n\u001b[0;32m    455\u001b[0m                 \u001b[1;34m\"cannot use sparse input in %r trained on dense data\"\u001b[0m\u001b[1;33m\u001b[0m\u001b[1;33m\u001b[0m\u001b[0m\n\u001b[1;32m--> 456\u001b[1;33m                 % type(self).__name__)\n\u001b[0m\u001b[0;32m    457\u001b[0m         \u001b[0mn_samples\u001b[0m\u001b[1;33m,\u001b[0m \u001b[0mn_features\u001b[0m \u001b[1;33m=\u001b[0m \u001b[0mX\u001b[0m\u001b[1;33m.\u001b[0m\u001b[0mshape\u001b[0m\u001b[1;33m\u001b[0m\u001b[1;33m\u001b[0m\u001b[0m\n\u001b[0;32m    458\u001b[0m \u001b[1;33m\u001b[0m\u001b[0m\n",
      "\u001b[1;31mValueError\u001b[0m: cannot use sparse input in 'SVC' trained on dense data"
     ]
    }
   ],
   "source": [
    "svc.fit(train_features2, train_labels)\n",
    "ans = svc.predict(val_features)\n",
    "print(classification_report(val_labels,ans,digits=5))"
   ]
  },
  {
   "cell_type": "code",
   "execution_count": 14,
   "metadata": {},
   "outputs": [
    {
     "ename": "ValueError",
     "evalue": "kd_tree does not work with sparse matrices. Densify the data, or set algorithm='brute'",
     "output_type": "error",
     "traceback": [
      "\u001b[1;31m---------------------------------------------------------------------------\u001b[0m",
      "\u001b[1;31mValueError\u001b[0m                                Traceback (most recent call last)",
      "\u001b[1;32m<ipython-input-14-d88f5bb7a979>\u001b[0m in \u001b[0;36m<module>\u001b[1;34m\u001b[0m\n\u001b[0;32m      1\u001b[0m \u001b[0mknn\u001b[0m\u001b[1;33m.\u001b[0m\u001b[0mfit\u001b[0m\u001b[1;33m(\u001b[0m\u001b[0mtrain_features2\u001b[0m\u001b[1;33m,\u001b[0m \u001b[0mtrain_labels\u001b[0m\u001b[1;33m)\u001b[0m\u001b[1;33m\u001b[0m\u001b[1;33m\u001b[0m\u001b[0m\n\u001b[1;32m----> 2\u001b[1;33m \u001b[0mans\u001b[0m \u001b[1;33m=\u001b[0m \u001b[0mknn\u001b[0m\u001b[1;33m.\u001b[0m\u001b[0mpredict\u001b[0m\u001b[1;33m(\u001b[0m\u001b[0mval_features\u001b[0m\u001b[1;33m)\u001b[0m\u001b[1;33m\u001b[0m\u001b[1;33m\u001b[0m\u001b[0m\n\u001b[0m\u001b[0;32m      3\u001b[0m \u001b[0mprint\u001b[0m\u001b[1;33m(\u001b[0m\u001b[0mclassification_report\u001b[0m\u001b[1;33m(\u001b[0m\u001b[0mval_labels\u001b[0m\u001b[1;33m,\u001b[0m\u001b[0mans\u001b[0m\u001b[1;33m,\u001b[0m\u001b[0mdigits\u001b[0m\u001b[1;33m=\u001b[0m\u001b[1;36m5\u001b[0m\u001b[1;33m)\u001b[0m\u001b[1;33m)\u001b[0m\u001b[1;33m\u001b[0m\u001b[1;33m\u001b[0m\u001b[0m\n",
      "\u001b[1;32mC:\\ProgramData\\Anaconda3\\lib\\site-packages\\sklearn\\neighbors\\_classification.py\u001b[0m in \u001b[0;36mpredict\u001b[1;34m(self, X)\u001b[0m\n\u001b[0;32m    171\u001b[0m         \u001b[0mX\u001b[0m \u001b[1;33m=\u001b[0m \u001b[0mcheck_array\u001b[0m\u001b[1;33m(\u001b[0m\u001b[0mX\u001b[0m\u001b[1;33m,\u001b[0m \u001b[0maccept_sparse\u001b[0m\u001b[1;33m=\u001b[0m\u001b[1;34m'csr'\u001b[0m\u001b[1;33m)\u001b[0m\u001b[1;33m\u001b[0m\u001b[1;33m\u001b[0m\u001b[0m\n\u001b[0;32m    172\u001b[0m \u001b[1;33m\u001b[0m\u001b[0m\n\u001b[1;32m--> 173\u001b[1;33m         \u001b[0mneigh_dist\u001b[0m\u001b[1;33m,\u001b[0m \u001b[0mneigh_ind\u001b[0m \u001b[1;33m=\u001b[0m \u001b[0mself\u001b[0m\u001b[1;33m.\u001b[0m\u001b[0mkneighbors\u001b[0m\u001b[1;33m(\u001b[0m\u001b[0mX\u001b[0m\u001b[1;33m)\u001b[0m\u001b[1;33m\u001b[0m\u001b[1;33m\u001b[0m\u001b[0m\n\u001b[0m\u001b[0;32m    174\u001b[0m         \u001b[0mclasses_\u001b[0m \u001b[1;33m=\u001b[0m \u001b[0mself\u001b[0m\u001b[1;33m.\u001b[0m\u001b[0mclasses_\u001b[0m\u001b[1;33m\u001b[0m\u001b[1;33m\u001b[0m\u001b[0m\n\u001b[0;32m    175\u001b[0m         \u001b[0m_y\u001b[0m \u001b[1;33m=\u001b[0m \u001b[0mself\u001b[0m\u001b[1;33m.\u001b[0m\u001b[0m_y\u001b[0m\u001b[1;33m\u001b[0m\u001b[1;33m\u001b[0m\u001b[0m\n",
      "\u001b[1;32mC:\\ProgramData\\Anaconda3\\lib\\site-packages\\sklearn\\neighbors\\_base.py\u001b[0m in \u001b[0;36mkneighbors\u001b[1;34m(self, X, n_neighbors, return_distance)\u001b[0m\n\u001b[0;32m    647\u001b[0m                 raise ValueError(\n\u001b[0;32m    648\u001b[0m                     \u001b[1;34m\"%s does not work with sparse matrices. Densify the data, \"\u001b[0m\u001b[1;33m\u001b[0m\u001b[1;33m\u001b[0m\u001b[0m\n\u001b[1;32m--> 649\u001b[1;33m                     \"or set algorithm='brute'\" % self._fit_method)\n\u001b[0m\u001b[0;32m    650\u001b[0m             old_joblib = (\n\u001b[0;32m    651\u001b[0m                     LooseVersion(joblib.__version__) < LooseVersion('0.12'))\n",
      "\u001b[1;31mValueError\u001b[0m: kd_tree does not work with sparse matrices. Densify the data, or set algorithm='brute'"
     ]
    }
   ],
   "source": [
    "knn.fit(train_features2, train_labels)\n",
    "ans = knn.predict(val_features)\n",
    "print(classification_report(val_labels,ans,digits=5))"
   ]
  },
  {
   "cell_type": "code",
   "execution_count": 15,
   "metadata": {},
   "outputs": [
    {
     "name": "stdout",
     "output_type": "stream",
     "text": [
      "              precision    recall  f1-score   support\n",
      "\n",
      "           0    0.99906   0.99978   0.99942     13818\n",
      "           1    0.88000   0.62857   0.73333        35\n",
      "\n",
      "    accuracy                        0.99885     13853\n",
      "   macro avg    0.93953   0.81418   0.86638     13853\n",
      "weighted avg    0.99876   0.99885   0.99875     13853\n",
      "\n"
     ]
    },
    {
     "name": "stderr",
     "output_type": "stream",
     "text": [
      "C:\\ProgramData\\Anaconda3\\lib\\site-packages\\sklearn\\linear_model\\_logistic.py:940: ConvergenceWarning: lbfgs failed to converge (status=1):\n",
      "STOP: TOTAL NO. of ITERATIONS REACHED LIMIT.\n",
      "\n",
      "Increase the number of iterations (max_iter) or scale the data as shown in:\n",
      "    https://scikit-learn.org/stable/modules/preprocessing.html\n",
      "Please also refer to the documentation for alternative solver options:\n",
      "    https://scikit-learn.org/stable/modules/linear_model.html#logistic-regression\n",
      "  extra_warning_msg=_LOGISTIC_SOLVER_CONVERGENCE_MSG)\n"
     ]
    }
   ],
   "source": [
    "LR.fit(train_features2, train_labels)\n",
    "ans = LR.predict(val_features)\n",
    "print(classification_report(val_labels,ans,digits=5))"
   ]
  },
  {
   "cell_type": "code",
   "execution_count": 16,
   "metadata": {},
   "outputs": [
    {
     "name": "stdout",
     "output_type": "stream",
     "text": [
      "              precision    recall  f1-score   support\n",
      "\n",
      "           0    0.99913   0.99986   0.99949     13818\n",
      "           1    0.92000   0.65714   0.76667        35\n",
      "\n",
      "    accuracy                        0.99899     13853\n",
      "   macro avg    0.95957   0.82850   0.88308     13853\n",
      "weighted avg    0.99893   0.99899   0.99891     13853\n",
      "\n"
     ]
    }
   ],
   "source": [
    "DT.fit(train_features2, train_labels)\n",
    "ans = DT.predict(val_features)\n",
    "print(classification_report(val_labels,ans,digits=5))"
   ]
  },
  {
   "cell_type": "code",
   "execution_count": 12,
   "metadata": {},
   "outputs": [
    {
     "name": "stdout",
     "output_type": "stream",
     "text": [
      "0 2\n",
      "1 11\n",
      "2 15\n",
      "3 7\n"
     ]
    }
   ],
   "source": [
    "list_w = {2,7,11,15}\n",
    "myhash = {}\n",
    "\n",
    "for ind ,val in enumerate(list_w):\n",
    "    print(ind,val)\n",
    "    myhash[val] = ind\n"
   ]
  },
  {
   "cell_type": "code",
   "execution_count": 13,
   "metadata": {},
   "outputs": [
    {
     "data": {
      "text/plain": [
       "{2: 0, 11: 1, 15: 2, 7: 3}"
      ]
     },
     "execution_count": 13,
     "metadata": {},
     "output_type": "execute_result"
    }
   ],
   "source": [
    "myhash"
   ]
  },
  {
   "cell_type": "code",
   "execution_count": 14,
   "metadata": {},
   "outputs": [
    {
     "name": "stdout",
     "output_type": "stream",
     "text": [
      "3\n"
     ]
    }
   ],
   "source": [
    "if 7 in myhash:\n",
    "    print(myhash[7])"
   ]
  },
  {
   "cell_type": "code",
   "execution_count": 22,
   "metadata": {},
   "outputs": [
    {
     "name": "stdout",
     "output_type": "stream",
     "text": [
      "0\n",
      "[0, 1]\n",
      "1\n",
      "2\n",
      "3\n"
     ]
    }
   ],
   "source": [
    "nums = [2,7,11,15]\n",
    "target = 9\n",
    "myHash = {}\n",
    "for index, value in enumerate(nums):\n",
    "    if target - value in myHash:\n",
    "        print([myHash[target-value], index])\n",
    "        #return [myHash[target-value], index]\n",
    "    myHash[value] = index\n",
    "    print(myHash[value])"
   ]
  },
  {
   "cell_type": "code",
   "execution_count": 10,
   "metadata": {},
   "outputs": [
    {
     "ename": "TypeError",
     "evalue": "'set' object is not subscriptable",
     "output_type": "error",
     "traceback": [
      "\u001b[1;31m---------------------------------------------------------------------------\u001b[0m",
      "\u001b[1;31mTypeError\u001b[0m                                 Traceback (most recent call last)",
      "\u001b[1;32m<ipython-input-10-de7038cc501a>\u001b[0m in \u001b[0;36m<module>\u001b[1;34m\u001b[0m\n\u001b[1;32m----> 1\u001b[1;33m \u001b[0mlist_w\u001b[0m\u001b[1;33m[\u001b[0m\u001b[1;36m2\u001b[0m\u001b[1;33m]\u001b[0m\u001b[1;33m\u001b[0m\u001b[1;33m\u001b[0m\u001b[0m\n\u001b[0m",
      "\u001b[1;31mTypeError\u001b[0m: 'set' object is not subscriptable"
     ]
    }
   ],
   "source": [
    "list_w[2]"
   ]
  },
  {
   "cell_type": "code",
   "execution_count": 8,
   "metadata": {},
   "outputs": [
    {
     "ename": "TypeError",
     "evalue": "argument of type 'int' is not iterable",
     "output_type": "error",
     "traceback": [
      "\u001b[1;31m---------------------------------------------------------------------------\u001b[0m",
      "\u001b[1;31mTypeError\u001b[0m                                 Traceback (most recent call last)",
      "\u001b[1;32m<ipython-input-8-6138bfcf6ec2>\u001b[0m in \u001b[0;36m<module>\u001b[1;34m\u001b[0m\n\u001b[1;32m----> 1\u001b[1;33m \u001b[1;32mif\u001b[0m \u001b[1;36m2\u001b[0m \u001b[1;32mnot\u001b[0m \u001b[1;32min\u001b[0m \u001b[0mlist_a\u001b[0m\u001b[1;33m:\u001b[0m\u001b[1;33m\u001b[0m\u001b[1;33m\u001b[0m\u001b[0m\n\u001b[0m\u001b[0;32m      2\u001b[0m     \u001b[0mprint\u001b[0m\u001b[1;33m(\u001b[0m\u001b[1;34m'yes'\u001b[0m\u001b[1;33m)\u001b[0m\u001b[1;33m\u001b[0m\u001b[1;33m\u001b[0m\u001b[0m\n",
      "\u001b[1;31mTypeError\u001b[0m: argument of type 'int' is not iterable"
     ]
    }
   ],
   "source": [
    "if 2 not in list_a:\n",
    "    print('yes')"
   ]
  },
  {
   "cell_type": "code",
   "execution_count": null,
   "metadata": {},
   "outputs": [],
   "source": []
  },
  {
   "cell_type": "code",
   "execution_count": 7,
   "metadata": {},
   "outputs": [],
   "source": [
    "list_a = list_w.pop(1)"
   ]
  },
  {
   "cell_type": "code",
   "execution_count": 4,
   "metadata": {},
   "outputs": [
    {
     "ename": "TypeError",
     "evalue": "list expected at most 1 arguments, got 2",
     "output_type": "error",
     "traceback": [
      "\u001b[1;31m---------------------------------------------------------------------------\u001b[0m",
      "\u001b[1;31mTypeError\u001b[0m                                 Traceback (most recent call last)",
      "\u001b[1;32m<ipython-input-4-6af408a39c20>\u001b[0m in \u001b[0;36m<module>\u001b[1;34m\u001b[0m\n\u001b[1;32m----> 1\u001b[1;33m \u001b[0mlist\u001b[0m\u001b[1;33m(\u001b[0m\u001b[1;36m1\u001b[0m\u001b[1;33m,\u001b[0m\u001b[1;36m3\u001b[0m\u001b[1;33m)\u001b[0m\u001b[1;33m\u001b[0m\u001b[1;33m\u001b[0m\u001b[0m\n\u001b[0m",
      "\u001b[1;31mTypeError\u001b[0m: list expected at most 1 arguments, got 2"
     ]
    }
   ],
   "source": [
    "list(1,3)"
   ]
  },
  {
   "cell_type": "code",
   "execution_count": 24,
   "metadata": {},
   "outputs": [
    {
     "name": "stdout",
     "output_type": "stream",
     "text": [
      "(array([ 7,  8,  9, 10, 11, 12, 16, 17, 18, 19, 20, 21, 22, 23, 24, 25, 29,\n",
      "       30, 31, 32, 33, 34], dtype=int64),)\n",
      "[ 7  8  9 10 11 12 16 17 18 19 20 21 22 23 24 25 29 30 31 32 33 34]\n",
      "type np.where(x>=5): <class 'tuple'>\n",
      "type np.where(x>=5)[0]: <class 'numpy.ndarray'>\n",
      "digit_indices: <class 'list'>\n",
      "digit_indices: [array([ 0, 35], dtype=int64), array([ 4, 26], dtype=int64), array([ 1,  3,  5, 15, 27, 28], dtype=int64), array([ 2, 14], dtype=int64), array([ 6, 13], dtype=int64), array([ 7, 12, 20, 29], dtype=int64), array([ 8, 11, 19, 24, 30], dtype=int64), array([ 9, 16, 21, 34], dtype=int64), array([10, 17, 22, 31, 32], dtype=int64), array([18, 23, 25, 33], dtype=int64)]\n"
     ]
    }
   ],
   "source": [
    "import numpy as np\n",
    "a = [0,2,3,2,1,2,4,5,6,7,8,6,5,4,3,2,7,8,9,6,5,7,8,9,6,9,1,2,2,5,6,8,8,9,7,0]\n",
    "x = np.array(a)\n",
    "# print(x)\n",
    "# print(x[1])\n",
    "print(np.where(x>=5))  #輸出的型別是一個元組，元組的第一個元素是list\n",
    "print(np.where(x>=5)[0]) #輸出的型別是list\n",
    "print('type np.where(x>=5):', type(np.where(x>=5)))\n",
    "print('type np.where(x>=5)[0]:', type(np.where(x>=5)[0]))\n",
    "digit_indices = [np.where(x == i)[0] for i in range(10)] #輸出的是一個list，list裡每個元素都是元組，元組裡的第一個元素是list，具體看下面輸出\n",
    "print('digit_indices:', type(digit_indices))\n",
    "print('digit_indices:', digit_indices)"
   ]
  },
  {
   "cell_type": "code",
   "execution_count": 29,
   "metadata": {},
   "outputs": [
    {
     "data": {
      "text/plain": [
       "'123'"
      ]
     },
     "execution_count": 29,
     "metadata": {},
     "output_type": "execute_result"
    }
   ],
   "source": [
    "list1, list2 = ['ab','123', 'xyz', 'zara', 'abc','flower'], [456, 700, 200]\n",
    "max(list1)\n",
    "min(list1)"
   ]
  },
  {
   "cell_type": "code",
   "execution_count": null,
   "metadata": {},
   "outputs": [],
   "source": []
  }
 ],
 "metadata": {
  "kernelspec": {
   "display_name": "Python 3",
   "language": "python",
   "name": "python3"
  },
  "language_info": {
   "codemirror_mode": {
    "name": "ipython",
    "version": 3
   },
   "file_extension": ".py",
   "mimetype": "text/x-python",
   "name": "python",
   "nbconvert_exporter": "python",
   "pygments_lexer": "ipython3",
   "version": "3.7.6"
  }
 },
 "nbformat": 4,
 "nbformat_minor": 4
}
